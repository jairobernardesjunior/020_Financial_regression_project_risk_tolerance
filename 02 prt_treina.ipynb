{
 "cells": [
  {
   "cell_type": "markdown",
   "metadata": {},
   "source": [
    "- ## Escolha do modelo\n",
    "- ## Treinamento do modelo\n",
    "- ## Teste do modelo\n",
    "- ## Armazenamento do modelo"
   ]
  },
  {
   "cell_type": "code",
   "execution_count": 1,
   "metadata": {},
   "outputs": [],
   "source": [
    "# maximiza nro de linhas e colunas para exibição\n",
    "# inibe mensagens de warning\n",
    "import pandas as pd\n",
    "pd.set_option('display.max_rows', None) # permite a máxima visualização das linhas em um display\n",
    "pd.set_option('display.max_columns', None) # permite a máxima visualização das colunas em um display\n",
    "import warnings\n",
    "warnings.simplefilter('ignore') # inibe a exibição de avisos de warning\n",
    "warnings.filterwarnings('ignore') # inibe a exibição de avisos de warning"
   ]
  },
  {
   "cell_type": "code",
   "execution_count": 2,
   "metadata": {},
   "outputs": [],
   "source": [
    "# modelos de regressão\n",
    "from sklearn.linear_model import LinearRegression # se ajusta a um modelo linear minimizando a soma dos quadrados residuais entre as previsões e os valores observados\n",
    "from sklearn.linear_model import Lasso # modelo de regressão linear que utiliza a regularização L1 para estimar coeficientes esparsos, ajudando a evitar o overfitting\n",
    "from sklearn.linear_model import ElasticNet # método de regressão regularizada que combina penalidades de Lasso (L1) e Ridge (L2) para melhorar a previsibilidade do modelo\n",
    "\n",
    "from sklearn.tree import DecisionTreeRegressor # utilizam uma estrutura semelhante a uma árvore para classificar dados em categorias diferentes, permitindo decisões baseadas em características das entradas\n",
    "from sklearn.neighbors import KNeighborsRegressor # modelo de regressão que utiliza os k-vizinhos mais próximos para prever o alvo\n",
    "from sklearn.svm import SVR # (Suporte à Regressão Vetorial) é uma técnica de aprendizado de máquina utilizada para realizar regressões e pode lidar com kernels lineares e não-lineares\n",
    "\n",
    "from sklearn.ensemble import RandomForestRegressor # estimador meta que ajusta uma série de regressões de árvores de decisão em subamostras do conjunto de dados e usa a média para melhorar a precisão das previsões\n",
    "from sklearn.ensemble import GradientBoostingRegressor # estimador que constrói um modelo aditivo de forma progressiva e permite a otimização de funções de perda diferenciáveis\n",
    "from sklearn.ensemble import ExtraTreesRegressor # método de aprendizado de conjunto para tarefas de regressão que constrói múltiplas árvores de decisão e média suas previsões para melhor desempenho\n",
    "from sklearn.ensemble import AdaBoostRegressor # metamodelo que começa ajustando um regressor no conjunto de dados original e, em seguida, ajusta cópias adicionais do regressor em cópias ponderadas do conjunto de dados\n",
    "\n",
    "from sklearn.neural_network import MLPRegressor # modelo de regressão que utiliza uma rede neural de múltiplas camadas para otimizar o erro quadrático"
   ]
  },
  {
   "cell_type": "code",
   "execution_count": 3,
   "metadata": {},
   "outputs": [],
   "source": [
    "# análise de dados e avaliação dos modelos\n",
    "from sklearn.model_selection import train_test_split # utilizada para dividir conjuntos de dados em subconjuntos de treino e teste, ajudando na validação de modelos\n",
    "from sklearn.model_selection import KFold # técnica de validação cruzada que divide um conjunto de dados em 'k' subconjuntos (folds) para treinar e testar modelos, garantindo que cada exemplo seja usado para treinamento e teste\n",
    "from sklearn.model_selection import cross_val_score # avalia o desempenho de um estimador usando validação cruzada. Ela divide os dados em k partes e treina o modelo k vezes\n",
    "\n",
    "from sklearn.metrics import mean_squared_error # métrica de avaliação que mede a média dos erros quadráticos entre os valores previstos e os valores reais"
   ]
  },
  {
   "cell_type": "code",
   "execution_count": 4,
   "metadata": {},
   "outputs": [],
   "source": [
    "# modelos de aprendizado profundo\n",
    "from keras.models import Sequential # permite agrupar uma pilha linear de camadas em um modelo, facilitando a construção de redes neurais\n",
    "from keras.layers import Dense # camada fundamental em redes neurais, onde cada neurônio está conectado a todos os neurônios da camada anterior, o que a torna amplamente utilizada em redes de múltiplas camadas\n",
    "from keras.optimizers import SGD # otimizador usado em Keras que atualiza os parâmetros com base no gradiente e na taxa de aprendizado definida\n",
    "from tensorflow.keras.optimizers import Adam # método de descida de gradiente estocástico que usa estimativas adaptativas de momentos de primeira e segunda ordem\n",
    "from keras.layers import LSTM # camada de rede neural recorrente que é utilizada para modelar sequências temporais, capaz de aprender padrões de longo prazo em dados sequenciais"
   ]
  },
  {
   "cell_type": "code",
   "execution_count": 5,
   "metadata": {},
   "outputs": [],
   "source": [
    "# modelos de séries temporais\n",
    "from statsmodels.tsa.arima_model import ARIMA # modelo estatístico usado para análise de séries temporais\n",
    "import statsmodels.api as sm # Modelo Estrutural é uma abordagem usada em estatística e econometria para modelar relações complexas entre variáveis"
   ]
  },
  {
   "cell_type": "code",
   "execution_count": 6,
   "metadata": {},
   "outputs": [],
   "source": [
    "# preparação e visualização de dados\n",
    "# pandas, pandas_datareader, numpy e matplotlib\n",
    "import numpy as np # computação de matrizes\n",
    "from matplotlib import pyplot # plotagem gráfica"
   ]
  },
  {
   "cell_type": "code",
   "execution_count": 7,
   "metadata": {},
   "outputs": [],
   "source": [
    "# carregando arquivo tratado em dataframe\n",
    "df_gold_trans = pd.read_csv('df_treated/df_gold_trans.csv')"
   ]
  },
  {
   "cell_type": "code",
   "execution_count": 8,
   "metadata": {},
   "outputs": [
    {
     "data": {
      "text/plain": [
       "(1206, 41)"
      ]
     },
     "execution_count": 8,
     "metadata": {},
     "output_type": "execute_result"
    }
   ],
   "source": [
    "# conferindo a dimensão do dataframe, linhas e colunas\n",
    "df_gold_trans.shape"
   ]
  },
  {
   "cell_type": "code",
   "execution_count": 9,
   "metadata": {},
   "outputs": [],
   "source": [
    "# ordenando pelo index o dataframe carregado\n",
    "df_gold_trans = df_gold_trans.sort_index()"
   ]
  },
  {
   "cell_type": "code",
   "execution_count": 10,
   "metadata": {},
   "outputs": [
    {
     "data": {
      "text/html": [
       "<div>\n",
       "<style scoped>\n",
       "    .dataframe tbody tr th:only-of-type {\n",
       "        vertical-align: middle;\n",
       "    }\n",
       "\n",
       "    .dataframe tbody tr th {\n",
       "        vertical-align: top;\n",
       "    }\n",
       "\n",
       "    .dataframe thead th {\n",
       "        text-align: right;\n",
       "    }\n",
       "</style>\n",
       "<table border=\"1\" class=\"dataframe\">\n",
       "  <thead>\n",
       "    <tr style=\"text-align: right;\">\n",
       "      <th></th>\n",
       "      <th>date</th>\n",
       "      <th>sp500 open</th>\n",
       "      <th>sp500 high</th>\n",
       "      <th>sp500 low</th>\n",
       "      <th>sp500 close</th>\n",
       "      <th>nasdaq open</th>\n",
       "      <th>nasdaq high</th>\n",
       "      <th>nasdaq low</th>\n",
       "      <th>nasdaq close</th>\n",
       "      <th>nasdaq high-low</th>\n",
       "      <th>usd_chf</th>\n",
       "      <th>silver open</th>\n",
       "      <th>silver high</th>\n",
       "      <th>silver low</th>\n",
       "      <th>silver close</th>\n",
       "      <th>silver volume</th>\n",
       "      <th>oil high-low</th>\n",
       "      <th>gold open</th>\n",
       "      <th>gold high</th>\n",
       "      <th>gold low</th>\n",
       "      <th>gold close</th>\n",
       "      <th>standard__sp500 open</th>\n",
       "      <th>standard__sp500 high</th>\n",
       "      <th>standard__sp500 low</th>\n",
       "      <th>standard__sp500 close</th>\n",
       "      <th>standard__nasdaq open</th>\n",
       "      <th>standard__nasdaq high</th>\n",
       "      <th>standard__nasdaq low</th>\n",
       "      <th>standard__nasdaq close</th>\n",
       "      <th>standard__nasdaq high-low</th>\n",
       "      <th>standard__usd_chf</th>\n",
       "      <th>standard__silver open</th>\n",
       "      <th>standard__silver high</th>\n",
       "      <th>standard__silver low</th>\n",
       "      <th>standard__silver close</th>\n",
       "      <th>standard__silver volume</th>\n",
       "      <th>standard__oil high-low</th>\n",
       "      <th>standard__gold open</th>\n",
       "      <th>standard__gold high</th>\n",
       "      <th>standard__gold low</th>\n",
       "      <th>standard__gold close</th>\n",
       "    </tr>\n",
       "  </thead>\n",
       "  <tbody>\n",
       "    <tr>\n",
       "      <th>0</th>\n",
       "      <td>2010-04-01</td>\n",
       "      <td>117.80</td>\n",
       "      <td>118.25</td>\n",
       "      <td>117.10</td>\n",
       "      <td>117.80</td>\n",
       "      <td>48.34</td>\n",
       "      <td>48.70</td>\n",
       "      <td>47.79</td>\n",
       "      <td>48.16</td>\n",
       "      <td>0.91</td>\n",
       "      <td>1.0559</td>\n",
       "      <td>17.89</td>\n",
       "      <td>17.9500</td>\n",
       "      <td>17.790</td>\n",
       "      <td>17.84</td>\n",
       "      <td>96350.0</td>\n",
       "      <td>0.330</td>\n",
       "      <td>109.9700</td>\n",
       "      <td>110.4700</td>\n",
       "      <td>109.92</td>\n",
       "      <td>110.26</td>\n",
       "      <td>-2.771243</td>\n",
       "      <td>-2.778349</td>\n",
       "      <td>-2.766272</td>\n",
       "      <td>-2.770555</td>\n",
       "      <td>-2.207742</td>\n",
       "      <td>-2.205655</td>\n",
       "      <td>-2.211944</td>\n",
       "      <td>-2.211372</td>\n",
       "      <td>-0.456933</td>\n",
       "      <td>2.393095</td>\n",
       "      <td>0.373972</td>\n",
       "      <td>0.355181</td>\n",
       "      <td>0.377596</td>\n",
       "      <td>0.355303</td>\n",
       "      <td>0.079335</td>\n",
       "      <td>0.090875</td>\n",
       "      <td>-1.500334</td>\n",
       "      <td>-1.489406</td>\n",
       "      <td>-1.448056</td>\n",
       "      <td>-1.457262</td>\n",
       "    </tr>\n",
       "    <tr>\n",
       "      <th>1</th>\n",
       "      <td>2010-04-05</td>\n",
       "      <td>118.25</td>\n",
       "      <td>118.84</td>\n",
       "      <td>117.92</td>\n",
       "      <td>118.76</td>\n",
       "      <td>48.26</td>\n",
       "      <td>48.72</td>\n",
       "      <td>48.14</td>\n",
       "      <td>48.61</td>\n",
       "      <td>0.58</td>\n",
       "      <td>1.0619</td>\n",
       "      <td>17.95</td>\n",
       "      <td>18.1000</td>\n",
       "      <td>17.900</td>\n",
       "      <td>18.08</td>\n",
       "      <td>180524.0</td>\n",
       "      <td>0.670</td>\n",
       "      <td>110.5600</td>\n",
       "      <td>110.9837</td>\n",
       "      <td>110.27</td>\n",
       "      <td>110.89</td>\n",
       "      <td>-2.759359</td>\n",
       "      <td>-2.762784</td>\n",
       "      <td>-2.744630</td>\n",
       "      <td>-2.745236</td>\n",
       "      <td>-2.210116</td>\n",
       "      <td>-2.205064</td>\n",
       "      <td>-2.201534</td>\n",
       "      <td>-2.198044</td>\n",
       "      <td>-1.072927</td>\n",
       "      <td>2.547151</td>\n",
       "      <td>0.401619</td>\n",
       "      <td>0.423798</td>\n",
       "      <td>0.428713</td>\n",
       "      <td>0.466116</td>\n",
       "      <td>2.020602</td>\n",
       "      <td>2.264872</td>\n",
       "      <td>-1.413354</td>\n",
       "      <td>-1.413944</td>\n",
       "      <td>-1.396188</td>\n",
       "      <td>-1.364412</td>\n",
       "    </tr>\n",
       "    <tr>\n",
       "      <th>2</th>\n",
       "      <td>2010-04-12</td>\n",
       "      <td>119.70</td>\n",
       "      <td>120.05</td>\n",
       "      <td>119.56</td>\n",
       "      <td>119.74</td>\n",
       "      <td>49.05</td>\n",
       "      <td>49.20</td>\n",
       "      <td>48.94</td>\n",
       "      <td>49.07</td>\n",
       "      <td>0.26</td>\n",
       "      <td>1.0598</td>\n",
       "      <td>18.38</td>\n",
       "      <td>18.4600</td>\n",
       "      <td>18.110</td>\n",
       "      <td>18.12</td>\n",
       "      <td>102729.0</td>\n",
       "      <td>0.585</td>\n",
       "      <td>113.6400</td>\n",
       "      <td>114.1300</td>\n",
       "      <td>112.98</td>\n",
       "      <td>113.01</td>\n",
       "      <td>-2.721067</td>\n",
       "      <td>-2.730861</td>\n",
       "      <td>-2.701346</td>\n",
       "      <td>-2.719390</td>\n",
       "      <td>-2.186671</td>\n",
       "      <td>-2.190875</td>\n",
       "      <td>-2.177741</td>\n",
       "      <td>-2.184421</td>\n",
       "      <td>-1.670255</td>\n",
       "      <td>2.493231</td>\n",
       "      <td>0.599753</td>\n",
       "      <td>0.588479</td>\n",
       "      <td>0.526299</td>\n",
       "      <td>0.484584</td>\n",
       "      <td>0.226451</td>\n",
       "      <td>1.721372</td>\n",
       "      <td>-0.959291</td>\n",
       "      <td>-0.951758</td>\n",
       "      <td>-0.994587</td>\n",
       "      <td>-1.051965</td>\n",
       "    </tr>\n",
       "    <tr>\n",
       "      <th>3</th>\n",
       "      <td>2010-04-15</td>\n",
       "      <td>120.99</td>\n",
       "      <td>121.57</td>\n",
       "      <td>120.95</td>\n",
       "      <td>121.29</td>\n",
       "      <td>49.88</td>\n",
       "      <td>50.19</td>\n",
       "      <td>49.87</td>\n",
       "      <td>50.13</td>\n",
       "      <td>0.32</td>\n",
       "      <td>1.0595</td>\n",
       "      <td>18.32</td>\n",
       "      <td>18.4526</td>\n",
       "      <td>18.320</td>\n",
       "      <td>18.39</td>\n",
       "      <td>78015.0</td>\n",
       "      <td>0.460</td>\n",
       "      <td>112.9000</td>\n",
       "      <td>113.7100</td>\n",
       "      <td>112.85</td>\n",
       "      <td>113.65</td>\n",
       "      <td>-2.687000</td>\n",
       "      <td>-2.690760</td>\n",
       "      <td>-2.664660</td>\n",
       "      <td>-2.678511</td>\n",
       "      <td>-2.162039</td>\n",
       "      <td>-2.161612</td>\n",
       "      <td>-2.150082</td>\n",
       "      <td>-2.153027</td>\n",
       "      <td>-1.558256</td>\n",
       "      <td>2.485529</td>\n",
       "      <td>0.572106</td>\n",
       "      <td>0.585094</td>\n",
       "      <td>0.623885</td>\n",
       "      <td>0.609249</td>\n",
       "      <td>-0.343516</td>\n",
       "      <td>0.922109</td>\n",
       "      <td>-1.068384</td>\n",
       "      <td>-1.013456</td>\n",
       "      <td>-1.013852</td>\n",
       "      <td>-0.957641</td>\n",
       "    </tr>\n",
       "    <tr>\n",
       "      <th>4</th>\n",
       "      <td>2010-04-19</td>\n",
       "      <td>119.01</td>\n",
       "      <td>119.93</td>\n",
       "      <td>118.47</td>\n",
       "      <td>119.81</td>\n",
       "      <td>49.36</td>\n",
       "      <td>49.66</td>\n",
       "      <td>48.90</td>\n",
       "      <td>49.50</td>\n",
       "      <td>0.76</td>\n",
       "      <td>1.0650</td>\n",
       "      <td>17.60</td>\n",
       "      <td>17.7300</td>\n",
       "      <td>17.565</td>\n",
       "      <td>17.71</td>\n",
       "      <td>90447.0</td>\n",
       "      <td>0.440</td>\n",
       "      <td>110.8801</td>\n",
       "      <td>111.3600</td>\n",
       "      <td>110.67</td>\n",
       "      <td>111.15</td>\n",
       "      <td>-2.739289</td>\n",
       "      <td>-2.734027</td>\n",
       "      <td>-2.730114</td>\n",
       "      <td>-2.717544</td>\n",
       "      <td>-2.177471</td>\n",
       "      <td>-2.177278</td>\n",
       "      <td>-2.178931</td>\n",
       "      <td>-2.171686</td>\n",
       "      <td>-0.736930</td>\n",
       "      <td>2.626747</td>\n",
       "      <td>0.240347</td>\n",
       "      <td>0.254542</td>\n",
       "      <td>0.273040</td>\n",
       "      <td>0.295279</td>\n",
       "      <td>-0.056803</td>\n",
       "      <td>0.794227</td>\n",
       "      <td>-1.366164</td>\n",
       "      <td>-1.358666</td>\n",
       "      <td>-1.336911</td>\n",
       "      <td>-1.326093</td>\n",
       "    </tr>\n",
       "  </tbody>\n",
       "</table>\n",
       "</div>"
      ],
      "text/plain": [
       "         date  sp500 open  sp500 high  sp500 low  sp500 close  nasdaq open  \\\n",
       "0  2010-04-01      117.80      118.25     117.10       117.80        48.34   \n",
       "1  2010-04-05      118.25      118.84     117.92       118.76        48.26   \n",
       "2  2010-04-12      119.70      120.05     119.56       119.74        49.05   \n",
       "3  2010-04-15      120.99      121.57     120.95       121.29        49.88   \n",
       "4  2010-04-19      119.01      119.93     118.47       119.81        49.36   \n",
       "\n",
       "   nasdaq high  nasdaq low  nasdaq close  nasdaq high-low  usd_chf  \\\n",
       "0        48.70       47.79         48.16             0.91   1.0559   \n",
       "1        48.72       48.14         48.61             0.58   1.0619   \n",
       "2        49.20       48.94         49.07             0.26   1.0598   \n",
       "3        50.19       49.87         50.13             0.32   1.0595   \n",
       "4        49.66       48.90         49.50             0.76   1.0650   \n",
       "\n",
       "   silver open  silver high  silver low  silver close  silver volume  \\\n",
       "0        17.89      17.9500      17.790         17.84        96350.0   \n",
       "1        17.95      18.1000      17.900         18.08       180524.0   \n",
       "2        18.38      18.4600      18.110         18.12       102729.0   \n",
       "3        18.32      18.4526      18.320         18.39        78015.0   \n",
       "4        17.60      17.7300      17.565         17.71        90447.0   \n",
       "\n",
       "   oil high-low  gold open  gold high  gold low  gold close  \\\n",
       "0         0.330   109.9700   110.4700    109.92      110.26   \n",
       "1         0.670   110.5600   110.9837    110.27      110.89   \n",
       "2         0.585   113.6400   114.1300    112.98      113.01   \n",
       "3         0.460   112.9000   113.7100    112.85      113.65   \n",
       "4         0.440   110.8801   111.3600    110.67      111.15   \n",
       "\n",
       "   standard__sp500 open  standard__sp500 high  standard__sp500 low  \\\n",
       "0             -2.771243             -2.778349            -2.766272   \n",
       "1             -2.759359             -2.762784            -2.744630   \n",
       "2             -2.721067             -2.730861            -2.701346   \n",
       "3             -2.687000             -2.690760            -2.664660   \n",
       "4             -2.739289             -2.734027            -2.730114   \n",
       "\n",
       "   standard__sp500 close  standard__nasdaq open  standard__nasdaq high  \\\n",
       "0              -2.770555              -2.207742              -2.205655   \n",
       "1              -2.745236              -2.210116              -2.205064   \n",
       "2              -2.719390              -2.186671              -2.190875   \n",
       "3              -2.678511              -2.162039              -2.161612   \n",
       "4              -2.717544              -2.177471              -2.177278   \n",
       "\n",
       "   standard__nasdaq low  standard__nasdaq close  standard__nasdaq high-low  \\\n",
       "0             -2.211944               -2.211372                  -0.456933   \n",
       "1             -2.201534               -2.198044                  -1.072927   \n",
       "2             -2.177741               -2.184421                  -1.670255   \n",
       "3             -2.150082               -2.153027                  -1.558256   \n",
       "4             -2.178931               -2.171686                  -0.736930   \n",
       "\n",
       "   standard__usd_chf  standard__silver open  standard__silver high  \\\n",
       "0           2.393095               0.373972               0.355181   \n",
       "1           2.547151               0.401619               0.423798   \n",
       "2           2.493231               0.599753               0.588479   \n",
       "3           2.485529               0.572106               0.585094   \n",
       "4           2.626747               0.240347               0.254542   \n",
       "\n",
       "   standard__silver low  standard__silver close  standard__silver volume  \\\n",
       "0              0.377596                0.355303                 0.079335   \n",
       "1              0.428713                0.466116                 2.020602   \n",
       "2              0.526299                0.484584                 0.226451   \n",
       "3              0.623885                0.609249                -0.343516   \n",
       "4              0.273040                0.295279                -0.056803   \n",
       "\n",
       "   standard__oil high-low  standard__gold open  standard__gold high  \\\n",
       "0                0.090875            -1.500334            -1.489406   \n",
       "1                2.264872            -1.413354            -1.413944   \n",
       "2                1.721372            -0.959291            -0.951758   \n",
       "3                0.922109            -1.068384            -1.013456   \n",
       "4                0.794227            -1.366164            -1.358666   \n",
       "\n",
       "   standard__gold low  standard__gold close  \n",
       "0           -1.448056             -1.457262  \n",
       "1           -1.396188             -1.364412  \n",
       "2           -0.994587             -1.051965  \n",
       "3           -1.013852             -0.957641  \n",
       "4           -1.336911             -1.326093  "
      ]
     },
     "execution_count": 10,
     "metadata": {},
     "output_type": "execute_result"
    }
   ],
   "source": [
    "# reconhecendo as primeiras linhas do df\n",
    "df_gold_trans.head(5)"
   ]
  },
  {
   "cell_type": "code",
   "execution_count": 11,
   "metadata": {},
   "outputs": [
    {
     "name": "stdout",
     "output_type": "stream",
     "text": [
      "<class 'pandas.core.frame.DataFrame'>\n",
      "RangeIndex: 1206 entries, 0 to 1205\n",
      "Data columns (total 41 columns):\n",
      " #   Column                     Non-Null Count  Dtype  \n",
      "---  ------                     --------------  -----  \n",
      " 0   date                       1206 non-null   object \n",
      " 1   sp500 open                 1206 non-null   float64\n",
      " 2   sp500 high                 1206 non-null   float64\n",
      " 3   sp500 low                  1206 non-null   float64\n",
      " 4   sp500 close                1206 non-null   float64\n",
      " 5   nasdaq open                1206 non-null   float64\n",
      " 6   nasdaq high                1206 non-null   float64\n",
      " 7   nasdaq low                 1206 non-null   float64\n",
      " 8   nasdaq close               1206 non-null   float64\n",
      " 9   nasdaq high-low            1206 non-null   float64\n",
      " 10  usd_chf                    1206 non-null   float64\n",
      " 11  silver open                1206 non-null   float64\n",
      " 12  silver high                1206 non-null   float64\n",
      " 13  silver low                 1206 non-null   float64\n",
      " 14  silver close               1206 non-null   float64\n",
      " 15  silver volume              1206 non-null   float64\n",
      " 16  oil high-low               1206 non-null   float64\n",
      " 17  gold open                  1206 non-null   float64\n",
      " 18  gold high                  1206 non-null   float64\n",
      " 19  gold low                   1206 non-null   float64\n",
      " 20  gold close                 1206 non-null   float64\n",
      " 21  standard__sp500 open       1206 non-null   float64\n",
      " 22  standard__sp500 high       1206 non-null   float64\n",
      " 23  standard__sp500 low        1206 non-null   float64\n",
      " 24  standard__sp500 close      1206 non-null   float64\n",
      " 25  standard__nasdaq open      1206 non-null   float64\n",
      " 26  standard__nasdaq high      1206 non-null   float64\n",
      " 27  standard__nasdaq low       1206 non-null   float64\n",
      " 28  standard__nasdaq close     1206 non-null   float64\n",
      " 29  standard__nasdaq high-low  1206 non-null   float64\n",
      " 30  standard__usd_chf          1206 non-null   float64\n",
      " 31  standard__silver open      1206 non-null   float64\n",
      " 32  standard__silver high      1206 non-null   float64\n",
      " 33  standard__silver low       1206 non-null   float64\n",
      " 34  standard__silver close     1206 non-null   float64\n",
      " 35  standard__silver volume    1206 non-null   float64\n",
      " 36  standard__oil high-low     1206 non-null   float64\n",
      " 37  standard__gold open        1206 non-null   float64\n",
      " 38  standard__gold high        1206 non-null   float64\n",
      " 39  standard__gold low         1206 non-null   float64\n",
      " 40  standard__gold close       1206 non-null   float64\n",
      "dtypes: float64(40), object(1)\n",
      "memory usage: 386.4+ KB\n"
     ]
    }
   ],
   "source": [
    "# verificando a posição de cada variável\n",
    "df_gold_trans.info()"
   ]
  },
  {
   "cell_type": "code",
   "execution_count": 12,
   "metadata": {},
   "outputs": [],
   "source": [
    "# separando variáveis independentes(x) e dependente(y)\n",
    "X = df_gold_trans[list(df_gold_trans.columns[21:40])]\n",
    "y = df_gold_trans[['standard__gold close']]"
   ]
  },
  {
   "cell_type": "code",
   "execution_count": 13,
   "metadata": {},
   "outputs": [
    {
     "name": "stdout",
     "output_type": "stream",
     "text": [
      "<class 'pandas.core.frame.DataFrame'>\n",
      "RangeIndex: 1206 entries, 0 to 1205\n",
      "Data columns (total 19 columns):\n",
      " #   Column                     Non-Null Count  Dtype  \n",
      "---  ------                     --------------  -----  \n",
      " 0   standard__sp500 open       1206 non-null   float64\n",
      " 1   standard__sp500 high       1206 non-null   float64\n",
      " 2   standard__sp500 low        1206 non-null   float64\n",
      " 3   standard__sp500 close      1206 non-null   float64\n",
      " 4   standard__nasdaq open      1206 non-null   float64\n",
      " 5   standard__nasdaq high      1206 non-null   float64\n",
      " 6   standard__nasdaq low       1206 non-null   float64\n",
      " 7   standard__nasdaq close     1206 non-null   float64\n",
      " 8   standard__nasdaq high-low  1206 non-null   float64\n",
      " 9   standard__usd_chf          1206 non-null   float64\n",
      " 10  standard__silver open      1206 non-null   float64\n",
      " 11  standard__silver high      1206 non-null   float64\n",
      " 12  standard__silver low       1206 non-null   float64\n",
      " 13  standard__silver close     1206 non-null   float64\n",
      " 14  standard__silver volume    1206 non-null   float64\n",
      " 15  standard__oil high-low     1206 non-null   float64\n",
      " 16  standard__gold open        1206 non-null   float64\n",
      " 17  standard__gold high        1206 non-null   float64\n",
      " 18  standard__gold low         1206 non-null   float64\n",
      "dtypes: float64(19)\n",
      "memory usage: 179.1 KB\n",
      "X= None\n",
      "<class 'pandas.core.frame.DataFrame'>\n",
      "RangeIndex: 1206 entries, 0 to 1205\n",
      "Data columns (total 1 columns):\n",
      " #   Column                Non-Null Count  Dtype  \n",
      "---  ------                --------------  -----  \n",
      " 0   standard__gold close  1206 non-null   float64\n",
      "dtypes: float64(1)\n",
      "memory usage: 9.6 KB\n",
      "y= None\n"
     ]
    }
   ],
   "source": [
    "print('X=', X.info())\n",
    "print('y=', y.info())"
   ]
  },
  {
   "cell_type": "code",
   "execution_count": 14,
   "metadata": {},
   "outputs": [],
   "source": [
    "# separando os sets de treino e teste em 20% para teste e 80% para treino\n",
    "X_train, X_test, Y_train, Y_test = train_test_split(X, y, test_size=0.20, random_state=42)"
   ]
  },
  {
   "cell_type": "code",
   "execution_count": 15,
   "metadata": {},
   "outputs": [],
   "source": [
    "# hiperparâmetros do CV (cross validation)\n",
    "num_folds = 10\n",
    "scoring = 'neg_mean_squared_error'"
   ]
  },
  {
   "cell_type": "code",
   "execution_count": 16,
   "metadata": {},
   "outputs": [],
   "source": [
    "# implementando os modelos de ML\n",
    "models = []\n",
    "\n",
    "# regressão e árvore de regressão\n",
    "models.append(('LR', LinearRegression()))\n",
    "models.append(('LASSO', Lasso()))\n",
    "models.append(('EN', ElasticNet()))\n",
    "models.append(('KNN', KNeighborsRegressor()))\n",
    "models.append(('CART', DecisionTreeRegressor()))\n",
    "models.append(('SVR', SVR()))\n",
    "\n",
    "# rede neural\n",
    "models.append(('MLP', MLPRegressor()))\n",
    "\n",
    "# ensemble - boosting\n",
    "models.append(('ABR', AdaBoostRegressor()))\n",
    "models.append(('GBR', GradientBoostingRegressor()))\n",
    "\n",
    "# ensemble - bagging\n",
    "models.append(('RFR', RandomForestRegressor()))\n",
    "models.append(('ETR', ExtraTreesRegressor()))"
   ]
  },
  {
   "cell_type": "markdown",
   "metadata": {},
   "source": [
    "- Foi criado uma lista de modelos para automatizar o treinamento e a avaliação de todos eles, evitando que o trabalho fosse feito repetidamente de forma manual, tornando o trabalho mais rápido e preciso."
   ]
  },
  {
   "cell_type": "markdown",
   "metadata": {},
   "source": [
    "### Treinando os Modelos: 'EN', 'LASSO', 'LR', 'KNN', 'SVR', 'MLP', 'GBR', 'RFR', 'ETR', 'CART', 'ABR'"
   ]
  },
  {
   "cell_type": "code",
   "execution_count": 17,
   "metadata": {},
   "outputs": [],
   "source": [
    "# obtendo os scores do k-fold e o erro quadrático médio entre o resultado conhecido e o resultado previsto\n",
    "names = []\n",
    "kfold_results = []\n",
    "test_results = []\n",
    "train_results = []\n",
    "\n",
    "for name, model in models:\n",
    "    names.append(name)\n",
    "\n",
    "    if name in ('EN', 'LASSO'): #'EN', 'LASSO'): \n",
    "        divisorC, divisorK=1, 1\n",
    "        divisorC=100 # modificando a escala para visualizar no gráfico   \n",
    "        #divisorK=10  \n",
    "    else:\n",
    "        if name in ('LR', 'KNN', 'SVR', 'MLP', 'GBR', 'RFR', 'ETR', 'CART', 'ABR'): \n",
    "            divisorC, divisorK= 1, 1\n",
    "            #divisorK=0.1 # modificando a escala para visualizar no gráfico  \n",
    "            #divisorC=0.1          \n",
    "\n",
    "    # análise k-fold\n",
    "    kfold = KFold(n_splits=num_folds, random_state=None)\n",
    "\n",
    "    # erro quadrático médio convertido para positivo. Quanto menor melhor.\n",
    "    cv_results = -1* cross_val_score(model, X_train, Y_train, cv= kfold, scoring=scoring)\n",
    "    kfold_results.append(cv_results/divisorK)\n",
    "\n",
    "    # período completo de treinamento\n",
    "    res = model.fit(X_train, Y_train)\n",
    "    train_result = mean_squared_error(res.predict(X_train), Y_train)\n",
    "    train_results.append(train_result/divisorC)\n",
    "    if name in ('LR'):\n",
    "        LR_model = res\n",
    "\n",
    "    # resultado dos testes\n",
    "    test_result = mean_squared_error(res.predict(X_test), Y_test)\n",
    "    test_results.append(test_result/divisorC)"
   ]
  },
  {
   "cell_type": "code",
   "execution_count": 18,
   "metadata": {},
   "outputs": [
    {
     "data": {
      "image/png": "[encoded data removed]",
      "text/plain": [
       "<Figure size 1000x500 with 1 Axes>"
      ]
     },
     "metadata": {},
     "output_type": "display_data"
    }
   ],
   "source": [
    "# comparando resultados da validação cruzada\n",
    "# quanto maior o cross_val_score o modelo é mais consistente e generalizável\n",
    "fig = pyplot.figure()\n",
    "fig.suptitle('Comparação dos Valore do Kfold')\n",
    "ax = fig.add_subplot(111)\n",
    "pyplot.boxplot(kfold_results)\n",
    "ax.set_xticklabels(names)\n",
    "fig.set_size_inches(10,5)\n",
    "pyplot.show()"
   ]
  },
  {
   "cell_type": "markdown",
   "metadata": {},
   "source": [
    "- Um valor maior de cross_val_score geralmente sugere que o modelo se adapta melhor aos dados e apresenta um desempenho superior na validação cruzada. \n",
    "- LASSO E ElasticNet (EN) apresentaram o melhor resultado do kfold, então seriam até agora os escolhidos baseados nessa avaliação."
   ]
  },
  {
   "cell_type": "code",
   "execution_count": 19,
   "metadata": {},
   "outputs": [
    {
     "data": {
      "image/png": "[encoded data removed]",
      "text/plain": [
       "<Figure size 1000x500 with 1 Axes>"
      ]
     },
     "metadata": {},
     "output_type": "display_data"
    }
   ],
   "source": [
    "# analisando o erro de treinamento e de teste\n",
    "# comparando algoritmos\n",
    "fig = pyplot.figure()\n",
    "\n",
    "ind = np.arange(len(names)) # as localidades x para os grupos\n",
    "width = 0.35 # largura das barras\n",
    "\n",
    "fig.suptitle('Comparação do Erro Quadrático Médio do Treino e do Teste')\n",
    "ax = fig.add_subplot(111)\n",
    "pyplot.bar(ind - width, train_results, width=width, label='train Error', color='green')\n",
    "pyplot.bar(ind, test_results, width=width, label='test Error', color='yellow')\n",
    "fig.set_size_inches(10,5)\n",
    "pyplot.legend()\n",
    "ax.set_xticks(ind)\n",
    "ax.set_xticklabels(names)\n",
    "pyplot.savefig('grafic_image/compara_erro.png', format='png')\n",
    "pyplot.show()\n"
   ]
  },
  {
   "cell_type": "markdown",
   "metadata": {},
   "source": [
    "- Verificamos que o modelo LR - Linear Regression teve o melhor desempenho relativo ao erro quadrático médio, apresentou o menor erro em conjunto de treino e teste.\n",
    "\n",
    "- Com exceção do LR os demais modelos apresentaram o erro quadrático médio do teste maior que o erro quadrático médio do treino, o que pode levar a um overfitting, dessa forma elegeremos somente o LR como modelo escolhido dessa comparação mesmo que o seu cross_val_score tenha sido menor que o LASSO e o EN."
   ]
  },
  {
   "cell_type": "code",
   "execution_count": 20,
   "metadata": {},
   "outputs": [
    {
     "name": "stdout",
     "output_type": "stream",
     "text": [
      "ERRO de teste LR 0.0007900491978517147\n",
      "relação DO ERRO de teste sobre O ERRO de treino LR 90.52505097709171\n",
      "ERRO de teste LASSO 0.010250583569510158\n",
      "relação DO ERRO de teste sobre O ERRO de treino LASSO 103.15241225060534\n",
      "ERRO de teste EN 0.003444643352475229\n",
      "relação DO ERRO de teste sobre O ERRO de treino EN 104.0803183264531\n",
      "ERRO de teste KNN 0.026512634027096593\n",
      "relação DO ERRO de teste sobre O ERRO de treino KNN 164.48654157562933\n",
      "ERRO de teste CART 0.005056191700038764\n",
      "relação DO ERRO de teste sobre O ERRO de treino CART 0\n",
      "ERRO de teste SVR 0.006332494582653945\n",
      "relação DO ERRO de teste sobre O ERRO de treino SVR 134.5730693633016\n",
      "ERRO de teste MLP 0.007171066742738994\n",
      "relação DO ERRO de teste sobre O ERRO de treino MLP 142.58542952619044\n",
      "ERRO de teste ABR 0.0053242831913111474\n",
      "relação DO ERRO de teste sobre O ERRO de treino ABR 138.43998196900134\n",
      "ERRO de teste GBR 0.0029831086302309446\n",
      "relação DO ERRO de teste sobre O ERRO de treino GBR 331.97535967649014\n",
      "ERRO de teste RFR 0.0028925736445435044\n",
      "relação DO ERRO de teste sobre O ERRO de treino RFR 819.073302143051\n"
     ]
    }
   ],
   "source": [
    "# verificando a relação do erro de test sobre o erro de treino\n",
    "for i in range(10):\n",
    "    if train_results[i] == 0:\n",
    "        print('ERRO de teste', names[i], test_results[i])\n",
    "        print('relação DO ERRO de teste sobre O ERRO de treino', names[i], 0)\n",
    "    else:\n",
    "        print('ERRO de teste', names[i], test_results[i])\n",
    "        print('relação DO ERRO de teste sobre O ERRO de treino', names[i], (test_results[i]/train_results[i]) * 100)"
   ]
  },
  {
   "cell_type": "markdown",
   "metadata": {},
   "source": [
    "- O modelo LR apresentou a melhor relação 90% do erro de teste sobre o erro de treino, sendo o eleito dentre todos os modelos.\n",
    "\n",
    "- Um valor elevado de Mean Squared Error (MSE) indica que o modelo não está fazendo previsões próximas dos valores reais, sugerindo uma baixa precisão nas suas previsões.\n",
    "\n",
    "- Quando o erro quadrático médio (MSE) do conjunto de teste é maior que o do conjunto de treinamento, isso pode indicar um problema de overfitting, onde o modelo se ajustou muito bem aos dados de treinamento, mas não generaliza bem para os dados novos."
   ]
  },
  {
   "cell_type": "markdown",
   "metadata": {},
   "source": [
    "### Treinando o Modelo ARIMA"
   ]
  },
  {
   "cell_type": "code",
   "execution_count": 21,
   "metadata": {},
   "outputs": [],
   "source": [
    "# preparando conjunto de dados para modelos ARIMA\n",
    "# deixando variáveis correlacionadas como variáveis exógenas\n",
    "\n",
    "X_train_ARIMA = X_train.loc[:, list(X.columns)]\n",
    "X_test_ARIMA = X_test.loc[:, list(X.columns)]\n",
    "\n",
    "tr_len = len(X_train_ARIMA)\n",
    "te_len = len(X_test_ARIMA)\n",
    "to_len = len(X)"
   ]
  },
  {
   "cell_type": "code",
   "execution_count": 22,
   "metadata": {},
   "outputs": [],
   "source": [
    "# treinando o modelo ARIMA\n",
    "warnings.filterwarnings('ignore')\n",
    "import statsmodels.api as sm\n",
    "\n",
    "model_arima = sm.tsa.arima.ARIMA(endog= Y_train, exog= X_train_ARIMA, order=[1,0,0])\n",
    "ARIMAModel = model_arima.fit()\n",
    "\n",
    "error_training_ARIMA = mean_squared_error(Y_train, ARIMAModel.fittedvalues)\n",
    "predicated = ARIMAModel.predict(start= tr_len -1, end= to_len -1, exog= X_test_ARIMA)[1:]\n",
    "error_test_ARIMA = mean_squared_error(Y_test, predicated)"
   ]
  },
  {
   "cell_type": "code",
   "execution_count": 23,
   "metadata": {},
   "outputs": [
    {
     "name": "stdout",
     "output_type": "stream",
     "text": [
      "error_training_ARIMA 0.0008726845450003024\n",
      "error_test_ARIMA 0.0007898411540119807\n",
      "relação DO ERRO de teste sobre O ERRO de treino 90.50706335262383\n"
     ]
    }
   ],
   "source": [
    "print('error_training_ARIMA', error_training_ARIMA)\n",
    "print('error_test_ARIMA', error_test_ARIMA)\n",
    "print('relação DO ERRO de teste sobre O ERRO de treino', (error_test_ARIMA/error_training_ARIMA) * 100)\n",
    "#print('predicated', predicated.head(5))"
   ]
  },
  {
   "cell_type": "markdown",
   "metadata": {},
   "source": [
    "- O modelo ARIMA também apresentou um erro quadrático médio satisfatório (baixo) tanto para treino quanto para teste, mostrando uma relação de 90% do erro de teste sobre o erro de treino, dessa forma elegeremos este modelo também para ser armazenado e utilizado em predições futuras do preço do ouro."
   ]
  },
  {
   "cell_type": "markdown",
   "metadata": {},
   "source": [
    "## Faz o Deploy do Modelo"
   ]
  },
  {
   "cell_type": "code",
   "execution_count": 24,
   "metadata": {},
   "outputs": [
    {
     "data": {
      "text/plain": [
       "['model/ARIMA_gold_price.pkl']"
      ]
     },
     "execution_count": 24,
     "metadata": {},
     "output_type": "execute_result"
    }
   ],
   "source": [
    "# faz o deploy do modelo para ser utilizado posteriormente\n",
    "from joblib import dump\n",
    "\n",
    "dump(LR_model, 'model/LR_gold_price.pkl')\n",
    "dump(ARIMAModel, 'model/ARIMA_gold_price.pkl')"
   ]
  }
 ],
 "metadata": {
  "kernelspec": {
   "display_name": "Python 3",
   "language": "python",
   "name": "python3"
  },
  "language_info": {
   "codemirror_mode": {
    "name": "ipython",
    "version": 3
   },
   "file_extension": ".py",
   "mimetype": "text/x-python",
   "name": "python",
   "nbconvert_exporter": "python",
   "pygments_lexer": "ipython3",
   "version": "3.11.5"
  }
 },
 "nbformat": 4,
 "nbformat_minor": 2
}
