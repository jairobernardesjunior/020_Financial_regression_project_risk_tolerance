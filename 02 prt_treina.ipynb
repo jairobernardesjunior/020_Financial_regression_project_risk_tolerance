{
 "cells": [
  {
   "cell_type": "markdown",
   "metadata": {},
   "source": [
    "- ## Escolha do modelo\n",
    "- ## Treinamento do modelo\n",
    "- ## Teste do modelo\n",
    "- ## Armazenamento do modelo"
   ]
  },
  {
   "cell_type": "code",
   "execution_count": 1,
   "metadata": {},
   "outputs": [],
   "source": [
    "# maximiza nro de linhas e colunas para exibição\n",
    "# inibe mensagens de warning\n",
    "import pandas as pd\n",
    "pd.set_option('display.max_rows', None) # permite a máxima visualização das linhas em um display\n",
    "pd.set_option('display.max_columns', None) # permite a máxima visualização das colunas em um display\n",
    "import warnings\n",
    "warnings.simplefilter('ignore') # inibe a exibição de avisos de warning\n",
    "warnings.filterwarnings('ignore') # inibe a exibição de avisos de warning"
   ]
  },
  {
   "cell_type": "code",
   "execution_count": 2,
   "metadata": {},
   "outputs": [],
   "source": [
    "# modelos de regressão\n",
    "from sklearn.linear_model import LinearRegression # se ajusta a um modelo linear minimizando a soma dos quadrados residuais entre as previsões e os valores observados\n",
    "from sklearn.linear_model import Lasso # modelo de regressão linear que utiliza a regularização L1 para estimar coeficientes esparsos, ajudando a evitar o overfitting\n",
    "from sklearn.linear_model import ElasticNet # método de regressão regularizada que combina penalidades de Lasso (L1) e Ridge (L2) para melhorar a previsibilidade do modelo\n",
    "\n",
    "from sklearn.tree import DecisionTreeRegressor # utilizam uma estrutura semelhante a uma árvore para classificar dados em categorias diferentes, permitindo decisões baseadas em características das entradas\n",
    "from sklearn.neighbors import KNeighborsRegressor # modelo de regressão que utiliza os k-vizinhos mais próximos para prever o alvo\n",
    "from sklearn.svm import SVR # (Suporte à Regressão Vetorial) é uma técnica de aprendizado de máquina utilizada para realizar regressões e pode lidar com kernels lineares e não-lineares\n",
    "\n",
    "from sklearn.ensemble import RandomForestRegressor # estimador meta que ajusta uma série de regressões de árvores de decisão em subamostras do conjunto de dados e usa a média para melhorar a precisão das previsões\n",
    "from sklearn.ensemble import GradientBoostingRegressor # estimador que constrói um modelo aditivo de forma progressiva e permite a otimização de funções de perda diferenciáveis\n",
    "from sklearn.ensemble import ExtraTreesRegressor # método de aprendizado de conjunto para tarefas de regressão que constrói múltiplas árvores de decisão e média suas previsões para melhor desempenho\n",
    "from sklearn.ensemble import AdaBoostRegressor # metamodelo que começa ajustando um regressor no conjunto de dados original e, em seguida, ajusta cópias adicionais do regressor em cópias ponderadas do conjunto de dados"
   ]
  },
  {
   "cell_type": "code",
   "execution_count": 3,
   "metadata": {},
   "outputs": [],
   "source": [
    "# análise de dados e avaliação dos modelos\n",
    "from sklearn.model_selection import train_test_split # utilizada para dividir conjuntos de dados em subconjuntos de treino e teste, ajudando na validação de modelos\n",
    "from sklearn.model_selection import KFold # técnica de validação cruzada que divide um conjunto de dados em 'k' subconjuntos (folds) para treinar e testar modelos, garantindo que cada exemplo seja usado para treinamento e teste\n",
    "from sklearn.model_selection import cross_val_score # avalia o desempenho de um estimador usando validação cruzada. Ela divide os dados em k partes e treina o modelo k vezes\n",
    "\n",
    "from sklearn.metrics import mean_squared_error # métrica de avaliação que mede a média dos erros quadráticos entre os valores previstos e os valores reais"
   ]
  },
  {
   "cell_type": "code",
   "execution_count": 4,
   "metadata": {},
   "outputs": [],
   "source": [
    "# análise de dados e avaliação dos modelos\n",
    "from sklearn.model_selection import GridSearchCV # realizar uma busca exaustiva sobre combinações de parâmetros especificados para um estimador. Ele ajuda a otimizar o desempenho do modelo\n",
    "from sklearn.metrics import r2_score "
   ]
  },
  {
   "cell_type": "code",
   "execution_count": 5,
   "metadata": {},
   "outputs": [],
   "source": [
    "# preparação e visualização de dados\n",
    "import numpy as np # computação de matrizes\n",
    "from matplotlib import pyplot # plotagem gráfica"
   ]
  },
  {
   "cell_type": "code",
   "execution_count": 6,
   "metadata": {},
   "outputs": [],
   "source": [
    "# carregando arquivo tratado em dataframe\n",
    "df_risk = pd.read_csv('df_treated/df_risk_tolerance.csv')"
   ]
  },
  {
   "cell_type": "code",
   "execution_count": 7,
   "metadata": {},
   "outputs": [
    {
     "data": {
      "text/plain": [
       "(3930, 12)"
      ]
     },
     "execution_count": 7,
     "metadata": {},
     "output_type": "execute_result"
    }
   ],
   "source": [
    "# conferindo a dimensão do dataframe, linhas e colunas\n",
    "df_risk.shape"
   ]
  },
  {
   "cell_type": "code",
   "execution_count": 8,
   "metadata": {},
   "outputs": [],
   "source": [
    "# ordenando pelo index o dataframe carregado\n",
    "df_risk = df_risk.sort_index()"
   ]
  },
  {
   "cell_type": "code",
   "execution_count": 9,
   "metadata": {},
   "outputs": [
    {
     "data": {
      "text/html": [
       "<div>\n",
       "<style scoped>\n",
       "    .dataframe tbody tr th:only-of-type {\n",
       "        vertical-align: middle;\n",
       "    }\n",
       "\n",
       "    .dataframe tbody tr th {\n",
       "        vertical-align: top;\n",
       "    }\n",
       "\n",
       "    .dataframe thead th {\n",
       "        text-align: right;\n",
       "    }\n",
       "</style>\n",
       "<table border=\"1\" class=\"dataframe\">\n",
       "  <thead>\n",
       "    <tr style=\"text-align: right;\">\n",
       "      <th></th>\n",
       "      <th>AGE</th>\n",
       "      <th>EDCL</th>\n",
       "      <th>MARRIED</th>\n",
       "      <th>KIDS</th>\n",
       "      <th>OCCAT1</th>\n",
       "      <th>INCOME</th>\n",
       "      <th>NETWORTH</th>\n",
       "      <th>tolerancia_risco</th>\n",
       "      <th>RISK</th>\n",
       "      <th>standard__AGE</th>\n",
       "      <th>standard__INCOME</th>\n",
       "      <th>standard__NETWORTH</th>\n",
       "    </tr>\n",
       "  </thead>\n",
       "  <tbody>\n",
       "    <tr>\n",
       "      <th>0</th>\n",
       "      <td>63.0</td>\n",
       "      <td>4</td>\n",
       "      <td>1</td>\n",
       "      <td>0</td>\n",
       "      <td>1</td>\n",
       "      <td>324273.547090</td>\n",
       "      <td>2391000.0</td>\n",
       "      <td>0.791073</td>\n",
       "      <td>1</td>\n",
       "      <td>0.673961</td>\n",
       "      <td>2.217976</td>\n",
       "      <td>1.887917</td>\n",
       "    </tr>\n",
       "    <tr>\n",
       "      <th>1</th>\n",
       "      <td>63.0</td>\n",
       "      <td>4</td>\n",
       "      <td>1</td>\n",
       "      <td>0</td>\n",
       "      <td>1</td>\n",
       "      <td>324273.547090</td>\n",
       "      <td>2421310.0</td>\n",
       "      <td>0.791271</td>\n",
       "      <td>1</td>\n",
       "      <td>0.673961</td>\n",
       "      <td>2.217976</td>\n",
       "      <td>1.925633</td>\n",
       "    </tr>\n",
       "    <tr>\n",
       "      <th>2</th>\n",
       "      <td>63.0</td>\n",
       "      <td>4</td>\n",
       "      <td>1</td>\n",
       "      <td>0</td>\n",
       "      <td>1</td>\n",
       "      <td>324273.547090</td>\n",
       "      <td>1957700.0</td>\n",
       "      <td>0.753915</td>\n",
       "      <td>1</td>\n",
       "      <td>0.673961</td>\n",
       "      <td>2.217976</td>\n",
       "      <td>1.348739</td>\n",
       "    </tr>\n",
       "    <tr>\n",
       "      <th>3</th>\n",
       "      <td>68.0</td>\n",
       "      <td>4</td>\n",
       "      <td>1</td>\n",
       "      <td>0</td>\n",
       "      <td>3</td>\n",
       "      <td>95120.240481</td>\n",
       "      <td>2720900.0</td>\n",
       "      <td>0.464435</td>\n",
       "      <td>3</td>\n",
       "      <td>0.975590</td>\n",
       "      <td>-0.486886</td>\n",
       "      <td>2.298428</td>\n",
       "    </tr>\n",
       "    <tr>\n",
       "      <th>4</th>\n",
       "      <td>68.0</td>\n",
       "      <td>4</td>\n",
       "      <td>1</td>\n",
       "      <td>0</td>\n",
       "      <td>3</td>\n",
       "      <td>95120.240481</td>\n",
       "      <td>2626900.0</td>\n",
       "      <td>0.463466</td>\n",
       "      <td>3</td>\n",
       "      <td>0.975590</td>\n",
       "      <td>-0.486886</td>\n",
       "      <td>2.181459</td>\n",
       "    </tr>\n",
       "  </tbody>\n",
       "</table>\n",
       "</div>"
      ],
      "text/plain": [
       "    AGE  EDCL  MARRIED  KIDS  OCCAT1         INCOME   NETWORTH  \\\n",
       "0  63.0     4        1     0       1  324273.547090  2391000.0   \n",
       "1  63.0     4        1     0       1  324273.547090  2421310.0   \n",
       "2  63.0     4        1     0       1  324273.547090  1957700.0   \n",
       "3  68.0     4        1     0       3   95120.240481  2720900.0   \n",
       "4  68.0     4        1     0       3   95120.240481  2626900.0   \n",
       "\n",
       "   tolerancia_risco  RISK  standard__AGE  standard__INCOME  standard__NETWORTH  \n",
       "0          0.791073     1       0.673961          2.217976            1.887917  \n",
       "1          0.791271     1       0.673961          2.217976            1.925633  \n",
       "2          0.753915     1       0.673961          2.217976            1.348739  \n",
       "3          0.464435     3       0.975590         -0.486886            2.298428  \n",
       "4          0.463466     3       0.975590         -0.486886            2.181459  "
      ]
     },
     "execution_count": 9,
     "metadata": {},
     "output_type": "execute_result"
    }
   ],
   "source": [
    "# reconhecendo as primeiras linhas do df\n",
    "df_risk.head(5)"
   ]
  },
  {
   "cell_type": "code",
   "execution_count": 10,
   "metadata": {},
   "outputs": [],
   "source": [
    "# eliminando as colunas originais que foram transformadas e não serão usadas no treino\n",
    "df_risk = df_risk.drop(columns=['AGE','INCOME','NETWORTH'], axis=1)"
   ]
  },
  {
   "cell_type": "code",
   "execution_count": 11,
   "metadata": {},
   "outputs": [
    {
     "data": {
      "text/plain": [
       "['EDCL',\n",
       " 'MARRIED',\n",
       " 'KIDS',\n",
       " 'OCCAT1',\n",
       " 'tolerancia_risco',\n",
       " 'RISK',\n",
       " 'standard__AGE',\n",
       " 'standard__INCOME',\n",
       " 'standard__NETWORTH']"
      ]
     },
     "execution_count": 11,
     "metadata": {},
     "output_type": "execute_result"
    }
   ],
   "source": [
    "# obtendo a lista de features do dataframe\n",
    "list(df_risk.columns)"
   ]
  },
  {
   "cell_type": "code",
   "execution_count": 12,
   "metadata": {},
   "outputs": [],
   "source": [
    "# renomeando as colunas para facilitar o trabalho\n",
    "df_risk.columns = ['EDCL',\\\n",
    "                    'MARRIED',\\\n",
    "                    'KIDS',\\\n",
    "                    'OCCAT1',\\\n",
    "                    'tolerancia_risco',\\\n",
    "                    'RISK',\\\n",
    "                    'AGE',\\\n",
    "                    'INCOME',\\\n",
    "                    'NETWORTH']"
   ]
  },
  {
   "cell_type": "code",
   "execution_count": 13,
   "metadata": {},
   "outputs": [
    {
     "name": "stdout",
     "output_type": "stream",
     "text": [
      "<class 'pandas.core.frame.DataFrame'>\n",
      "RangeIndex: 3930 entries, 0 to 3929\n",
      "Data columns (total 9 columns):\n",
      " #   Column            Non-Null Count  Dtype  \n",
      "---  ------            --------------  -----  \n",
      " 0   EDCL              3930 non-null   int64  \n",
      " 1   MARRIED           3930 non-null   int64  \n",
      " 2   KIDS              3930 non-null   int64  \n",
      " 3   OCCAT1            3930 non-null   int64  \n",
      " 4   tolerancia_risco  3930 non-null   float64\n",
      " 5   RISK              3930 non-null   int64  \n",
      " 6   AGE               3930 non-null   float64\n",
      " 7   INCOME            3930 non-null   float64\n",
      " 8   NETWORTH          3930 non-null   float64\n",
      "dtypes: float64(4), int64(5)\n",
      "memory usage: 276.5 KB\n"
     ]
    }
   ],
   "source": [
    "# verificando a posição de cada variável\n",
    "df_risk.info()"
   ]
  },
  {
   "cell_type": "code",
   "execution_count": 14,
   "metadata": {},
   "outputs": [],
   "source": [
    "# separando variáveis independentes(x) e dependente(y)\n",
    "X = df_risk.drop(columns='tolerancia_risco', axis=1)\n",
    "y = df_risk[['tolerancia_risco']]"
   ]
  },
  {
   "cell_type": "code",
   "execution_count": 15,
   "metadata": {},
   "outputs": [
    {
     "name": "stdout",
     "output_type": "stream",
     "text": [
      "<class 'pandas.core.frame.DataFrame'>\n",
      "RangeIndex: 3930 entries, 0 to 3929\n",
      "Data columns (total 8 columns):\n",
      " #   Column    Non-Null Count  Dtype  \n",
      "---  ------    --------------  -----  \n",
      " 0   EDCL      3930 non-null   int64  \n",
      " 1   MARRIED   3930 non-null   int64  \n",
      " 2   KIDS      3930 non-null   int64  \n",
      " 3   OCCAT1    3930 non-null   int64  \n",
      " 4   RISK      3930 non-null   int64  \n",
      " 5   AGE       3930 non-null   float64\n",
      " 6   INCOME    3930 non-null   float64\n",
      " 7   NETWORTH  3930 non-null   float64\n",
      "dtypes: float64(3), int64(5)\n",
      "memory usage: 245.8 KB\n",
      "X= None\n",
      "<class 'pandas.core.frame.DataFrame'>\n",
      "RangeIndex: 3930 entries, 0 to 3929\n",
      "Data columns (total 1 columns):\n",
      " #   Column            Non-Null Count  Dtype  \n",
      "---  ------            --------------  -----  \n",
      " 0   tolerancia_risco  3930 non-null   float64\n",
      "dtypes: float64(1)\n",
      "memory usage: 30.8 KB\n",
      "y= None\n"
     ]
    }
   ],
   "source": [
    "print('X=', X.info())\n",
    "print('y=', y.info())"
   ]
  },
  {
   "cell_type": "code",
   "execution_count": 16,
   "metadata": {},
   "outputs": [],
   "source": [
    "# separando os sets de treino e teste em 15% para teste, 15% para validação e 70% para treino\n",
    "test_size = 0.30\n",
    "validation_size = 0.50\n",
    "seed = 42\n",
    "seed2 = 40\n",
    "X_train, X_test, Y_train, Y_test = train_test_split(X, y, test_size=test_size, random_state=seed)\n",
    "X_validation, X_test, Y_validation, Y_test = train_test_split(X_test, Y_test, test_size=validation_size, random_state=seed2)"
   ]
  },
  {
   "cell_type": "code",
   "execution_count": 17,
   "metadata": {},
   "outputs": [],
   "source": [
    "# hiperparâmetros da CV (cross validation)\n",
    "num_folds = 10\n",
    "scoring = 'r2'"
   ]
  },
  {
   "cell_type": "code",
   "execution_count": 18,
   "metadata": {},
   "outputs": [],
   "source": [
    "# implementando os modelos de ML\n",
    "models = []\n",
    "\n",
    "# regressão e árvore de regressão\n",
    "models.append(('LR', LinearRegression()))\n",
    "models.append(('LASSO', Lasso()))\n",
    "models.append(('EN', ElasticNet()))\n",
    "models.append(('KNN', KNeighborsRegressor()))\n",
    "models.append(('CART', DecisionTreeRegressor()))\n",
    "models.append(('SVR', SVR()))\n",
    "\n",
    "# ensemble - boosting\n",
    "models.append(('ABR', AdaBoostRegressor()))\n",
    "models.append(('GBR', GradientBoostingRegressor()))\n",
    "\n",
    "# ensemble - bagging\n",
    "models.append(('RFR', RandomForestRegressor()))\n",
    "models.append(('ETR', ExtraTreesRegressor()))"
   ]
  },
  {
   "cell_type": "markdown",
   "metadata": {},
   "source": [
    "- Foi criado uma lista de modelos para automatizar o treinamento e a avaliação de todos eles, evitando que o trabalho fosse feito repetidamente de forma manual, tornando o trabalho mais rápido e preciso."
   ]
  },
  {
   "cell_type": "markdown",
   "metadata": {},
   "source": [
    "### Treinando os Modelos: 'EN', 'LASSO', 'LR', 'KNN', 'SVR', 'GBR', 'RFR', 'ETR', 'CART', 'ABR'"
   ]
  },
  {
   "cell_type": "code",
   "execution_count": 19,
   "metadata": {},
   "outputs": [],
   "source": [
    "# obtendo os scores do k-fold e o erro quadrático médio entre o resultado conhecido e o resultado previsto\n",
    "names = []\n",
    "kfold_results = []\n",
    "test_results = []\n",
    "train_results = []\n",
    "\n",
    "for name, model in models:\n",
    "    names.append(name)\n",
    "\n",
    "    if name in ('EN', 'LASSO'): #'EN', 'LASSO'): \n",
    "        divisorC, divisorK=1, 1\n",
    "        #divisorC=100 # modificando a escala para visualizar no gráfico   \n",
    "        #divisorK=10  \n",
    "    else:\n",
    "        if name in ('LR', 'KNN', 'SVR', 'GBR', 'RFR', 'ETR', 'CART', 'ABR'): \n",
    "            divisorC, divisorK= 1, 1\n",
    "            #divisorK=0.1 # modificando a escala para visualizar no gráfico  \n",
    "            #divisorC=0.1          \n",
    "\n",
    "    # análise k-fold\n",
    "    kfold = KFold(n_splits=num_folds, random_state=None)\n",
    "\n",
    "    # erro quadrático médio convertido para positivo. Quanto menor melhor.\n",
    "    cv_results = cross_val_score(model, X_train, Y_train, cv= kfold, scoring=scoring)\n",
    "    kfold_results.append(cv_results/divisorK)\n",
    "\n",
    "    # período completo de treinamento\n",
    "    res = model.fit(X_train, Y_train)\n",
    "    train_result = mean_squared_error(res.predict(X_train), Y_train)\n",
    "    train_results.append(train_result/divisorC)\n",
    "\n",
    "    if name in ('LR'):\n",
    "        LR_model = res       \n",
    "\n",
    "    if name in ('SVR'):\n",
    "        SVR_model = res \n",
    "\n",
    "    # resultado dos testes\n",
    "    test_result = mean_squared_error(res.predict(X_test), Y_test)\n",
    "    test_results.append(test_result/divisorC)"
   ]
  },
  {
   "cell_type": "code",
   "execution_count": 20,
   "metadata": {},
   "outputs": [
    {
     "data": {
      "image/png": "[encoded data removed]",
      "text/plain": [
       "<Figure size 1000x500 with 1 Axes>"
      ]
     },
     "metadata": {},
     "output_type": "display_data"
    }
   ],
   "source": [
    "# comparando resultados da validação cruzada\n",
    "# quanto maior o cross_val_score o modelo é mais consistente e generalizável\n",
    "fig = pyplot.figure()\n",
    "fig.suptitle('Comparação dos Valore do Kfold')\n",
    "ax = fig.add_subplot(111)\n",
    "ymin= -0.05\n",
    "ymax= 0.001\n",
    "pyplot.ylim(ymin, ymax)\n",
    "pyplot.boxplot(kfold_results, boxprops=dict(color='blue'), whiskerprops=dict(color='red'), \\\n",
    "               capprops=dict(color='green'), medianprops=dict(color='orange'), \\\n",
    "               flierprops=dict(markerfacecolor='red', marker='o'))\n",
    "ax.set_xticklabels(names)\n",
    "fig.set_size_inches(10,5)\n",
    "pyplot.show()"
   ]
  },
  {
   "cell_type": "code",
   "execution_count": 21,
   "metadata": {},
   "outputs": [
    {
     "data": {
      "image/png": "[encoded data removed]",
      "text/plain": [
       "<Figure size 1000x500 with 1 Axes>"
      ]
     },
     "metadata": {},
     "output_type": "display_data"
    }
   ],
   "source": [
    "# comparando resultados da validação cruzada\n",
    "# quanto maior o cross_val_score o modelo é mais consistente e generalizável\n",
    "fig = pyplot.figure()\n",
    "fig.suptitle('Comparação dos Valore do Kfold')\n",
    "ax = fig.add_subplot(111)\n",
    "ymin= 0.93\n",
    "ymax= 1.0\n",
    "pyplot.ylim(ymin, ymax)\n",
    "pyplot.boxplot(kfold_results, boxprops=dict(color='blue'), whiskerprops=dict(color='red'), \\\n",
    "               capprops=dict(color='green'), medianprops=dict(color='orange'), \\\n",
    "               flierprops=dict(markerfacecolor='red', marker='o'))\n",
    "ax.set_xticklabels(names)\n",
    "fig.set_size_inches(10,5)\n",
    "pyplot.show()"
   ]
  },
  {
   "cell_type": "markdown",
   "metadata": {},
   "source": [
    "- Um valor maior de cross_val_score geralmente sugere que o modelo se adapta melhor aos dados e apresenta um desempenho superior na validação cruzada. \n",
    "- LASSO E ElasticNet (EN) apresentaram o melhor resultado do kfold, então seriam até agora os escolhidos baseados nessa avaliação."
   ]
  },
  {
   "cell_type": "code",
   "execution_count": 22,
   "metadata": {},
   "outputs": [
    {
     "data": {
      "image/png": "[encoded data removed]",
      "text/plain": [
       "<Figure size 1000x500 with 1 Axes>"
      ]
     },
     "metadata": {},
     "output_type": "display_data"
    }
   ],
   "source": [
    "# analisando o erro de treinamento e de teste\n",
    "# comparando algoritmos\n",
    "fig = pyplot.figure()\n",
    "\n",
    "ind = np.arange(len(names)) # as localidades x para os grupos\n",
    "width = 0.35 # largura das barras\n",
    "\n",
    "fig.suptitle('Comparação do Erro Quadrático Médio do Treino e do Teste')\n",
    "ax = fig.add_subplot(111)\n",
    "pyplot.bar(ind - width, train_results, width=width, label='train Error', color='blue')\n",
    "pyplot.bar(ind, test_results, width=width, label='test Error', color='orange')\n",
    "fig.set_size_inches(10,5)\n",
    "pyplot.legend()\n",
    "ax.set_xticks(ind)\n",
    "ax.set_xticklabels(names)\n",
    "pyplot.savefig('grafic_image/compara_erro.png', format='png')\n",
    "pyplot.show()\n"
   ]
  },
  {
   "cell_type": "markdown",
   "metadata": {},
   "source": [
    "- Verificamos que o modelo LR - Linear Regression juntamente com o SVR teve um melhor resultado quando analisamos o valor do kfold (gráfico kfold) em conjunto com o erro de treino e teste, que apresenta um valor baixo e equiparados."
   ]
  },
  {
   "cell_type": "markdown",
   "metadata": {},
   "source": [
    "- Quando o erro quadrático médio (MSE) do conjunto de teste é maior que o do conjunto de treinamento, isso pode indicar um problema de overfitting, onde o modelo se ajustou muito bem aos dados de treinamento, mas não generaliza bem para os dados novos."
   ]
  },
  {
   "cell_type": "code",
   "execution_count": 23,
   "metadata": {},
   "outputs": [
    {
     "name": "stdout",
     "output_type": "stream",
     "text": [
      "Best: 0.985374 using {'n_estimators': 350}\n"
     ]
    }
   ],
   "source": [
    "# Grid search para RandomForestRegressor: \n",
    "param_grid = {'n_estimators': [50,100,150,200,250,300,350,400]} \n",
    "model = RandomForestRegressor() \n",
    "kfold = KFold(n_splits=num_folds, random_state=seed, shuffle=True)\n",
    "grid = GridSearchCV(estimator=model, param_grid=param_grid, scoring=scoring, cv=kfold) \n",
    "grid_result = grid.fit(X_train, Y_train) \n",
    "print('Best: %f using %s' % (grid_result.best_score_, grid_result.best_params_)) \n",
    "means = grid_result.cv_results_['mean_test_score'] \n",
    "stds = grid_result.cv_results_['std_test_score'] \n",
    "params = grid_result.cv_results_['params']"
   ]
  },
  {
   "cell_type": "code",
   "execution_count": 24,
   "metadata": {},
   "outputs": [],
   "source": [
    "# fazendo o treinamento do modelo de RandomForestRegressor\n",
    "model = RandomForestRegressor(n_estimators = 350) \n",
    "model.fit(X_train, Y_train)\n",
    "RFR_model = model"
   ]
  },
  {
   "cell_type": "code",
   "execution_count": 25,
   "metadata": {},
   "outputs": [
    {
     "name": "stdout",
     "output_type": "stream",
     "text": [
      "r2_score = 0.9982240145442267\n"
     ]
    }
   ],
   "source": [
    "# fazendo a predição com os dados de treino\n",
    "predictions_train = model.predict(X_train) \n",
    "print('r2_score =', r2_score(Y_train, predictions_train))"
   ]
  },
  {
   "cell_type": "code",
   "execution_count": 26,
   "metadata": {},
   "outputs": [
    {
     "name": "stdout",
     "output_type": "stream",
     "text": [
      "erro quadrático médio = 0.0015303880366248552\n",
      "r2_score = 0.9856802139423754\n"
     ]
    }
   ],
   "source": [
    "# fazendo a predição com os dados de validação\n",
    "predictions = model.predict(X_validation) \n",
    "print('erro quadrático médio =', mean_squared_error(Y_validation, predictions)) \n",
    "print('r2_score =', r2_score(Y_validation, predictions))"
   ]
  },
  {
   "cell_type": "markdown",
   "metadata": {},
   "source": [
    "- O r2_score da predição dos dados mostra um valor bastante significativo para os dados de treino como também para os dados de validação ficando ambos muito próximos, o que valida o modelo já que se comporta bem com dados de treino e com dados de validação, ficando praticamente equiparados, afastando totalmente alguma suspeita de overfitting.\n",
    "\n",
    "- O erro quadrático médio da validação também ficou muito baixo o que viabiliza o modelo."
   ]
  },
  {
   "cell_type": "code",
   "execution_count": 27,
   "metadata": {},
   "outputs": [
    {
     "data": {
      "image/png": "[encoded data removed]",
      "text/plain": [
       "<Figure size 640x480 with 1 Axes>"
      ]
     },
     "metadata": {},
     "output_type": "display_data"
    }
   ],
   "source": [
    "# plotando as importâncias de cada feature para comparação\n",
    "\n",
    "#model = RandomForestRegressor(n_estimators= 200,n_jobs=-1) \n",
    "#model.fit(X_train,Y_train) \n",
    "\n",
    "#usar a classe nativa feature_importances dos classificadores baseados em árvores \n",
    "#plotar um gráfico das importâncias dos features para melhor visualização \n",
    "feat_importances = pd.Series(model.feature_importances_, index=X.columns) \n",
    "feat_importances.nlargest(10).plot(kind='barh') \n",
    "pyplot.show()"
   ]
  },
  {
   "cell_type": "markdown",
   "metadata": {},
   "source": [
    "## Faz o Deploy do Modelo"
   ]
  },
  {
   "cell_type": "code",
   "execution_count": 28,
   "metadata": {},
   "outputs": [
    {
     "data": {
      "text/plain": [
       "['model/SVR_risk_tolerance.pkl']"
      ]
     },
     "execution_count": 28,
     "metadata": {},
     "output_type": "execute_result"
    }
   ],
   "source": [
    "# faz o deploy do modelo para ser utilizado posteriormente\n",
    "from joblib import dump\n",
    "\n",
    "dump(LR_model, 'model/LR_risk_tolerance.pkl')\n",
    "dump(RFR_model, 'model/RFR_risk_tolerance.pkl')\n",
    "dump(SVR_model, 'model/SVR_risk_tolerance.pkl')"
   ]
  },
  {
   "cell_type": "markdown",
   "metadata": {},
   "source": [
    "- Houve três modelos treinados que podem ser usados para que seja apurado a tolerância a risco de uma pessoa, os três apresentaram um resultado satisfatório quanto ao erro de teste e treino como também o r2_score e erro médio quadrático."
   ]
  }
 ],
 "metadata": {
  "kernelspec": {
   "display_name": "Python 3",
   "language": "python",
   "name": "python3"
  },
  "language_info": {
   "codemirror_mode": {
    "name": "ipython",
    "version": 3
   },
   "file_extension": ".py",
   "mimetype": "text/x-python",
   "name": "python",
   "nbconvert_exporter": "python",
   "pygments_lexer": "ipython3",
   "version": "3.11.5"
  }
 },
 "nbformat": 4,
 "nbformat_minor": 2
}
