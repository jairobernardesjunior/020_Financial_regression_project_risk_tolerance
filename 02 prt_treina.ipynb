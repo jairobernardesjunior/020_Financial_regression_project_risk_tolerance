{
 "cells": [
  {
   "cell_type": "markdown",
   "metadata": {},
   "source": [
    "- ## Escolha do modelo\n",
    "- ## Treinamento do modelo\n",
    "- ## Teste do modelo\n",
    "- ## Armazenamento do modelo"
   ]
  },
  {
   "cell_type": "code",
   "execution_count": 39,
   "metadata": {},
   "outputs": [],
   "source": [
    "# maximiza nro de linhas e colunas para exibição\n",
    "# inibe mensagens de warning\n",
    "import pandas as pd\n",
    "pd.set_option('display.max_rows', None) # permite a máxima visualização das linhas em um display\n",
    "pd.set_option('display.max_columns', None) # permite a máxima visualização das colunas em um display\n",
    "import warnings\n",
    "warnings.simplefilter('ignore') # inibe a exibição de avisos de warning\n",
    "warnings.filterwarnings('ignore') # inibe a exibição de avisos de warning"
   ]
  },
  {
   "cell_type": "code",
   "execution_count": 40,
   "metadata": {},
   "outputs": [],
   "source": [
    "# modelos de regressão\n",
    "from sklearn.linear_model import LinearRegression # se ajusta a um modelo linear minimizando a soma dos quadrados residuais entre as previsões e os valores observados\n",
    "from sklearn.linear_model import Lasso # modelo de regressão linear que utiliza a regularização L1 para estimar coeficientes esparsos, ajudando a evitar o overfitting\n",
    "from sklearn.linear_model import ElasticNet # método de regressão regularizada que combina penalidades de Lasso (L1) e Ridge (L2) para melhorar a previsibilidade do modelo\n",
    "\n",
    "from sklearn.tree import DecisionTreeRegressor # utilizam uma estrutura semelhante a uma árvore para classificar dados em categorias diferentes, permitindo decisões baseadas em características das entradas\n",
    "from sklearn.neighbors import KNeighborsRegressor # modelo de regressão que utiliza os k-vizinhos mais próximos para prever o alvo\n",
    "from sklearn.svm import SVR # (Suporte à Regressão Vetorial) é uma técnica de aprendizado de máquina utilizada para realizar regressões e pode lidar com kernels lineares e não-lineares\n",
    "\n",
    "from sklearn.ensemble import RandomForestRegressor # estimador meta que ajusta uma série de regressões de árvores de decisão em subamostras do conjunto de dados e usa a média para melhorar a precisão das previsões\n",
    "from sklearn.ensemble import GradientBoostingRegressor # estimador que constrói um modelo aditivo de forma progressiva e permite a otimização de funções de perda diferenciáveis\n",
    "from sklearn.ensemble import ExtraTreesRegressor # método de aprendizado de conjunto para tarefas de regressão que constrói múltiplas árvores de decisão e média suas previsões para melhor desempenho\n",
    "from sklearn.ensemble import AdaBoostRegressor # metamodelo que começa ajustando um regressor no conjunto de dados original e, em seguida, ajusta cópias adicionais do regressor em cópias ponderadas do conjunto de dados\n",
    "\n",
    "from sklearn.neural_network import MLPRegressor # modelo de regressão que utiliza uma rede neural de múltiplas camadas para otimizar o erro quadrático"
   ]
  },
  {
   "cell_type": "code",
   "execution_count": 41,
   "metadata": {},
   "outputs": [],
   "source": [
    "# análise de dados e avaliação dos modelos\n",
    "from sklearn.model_selection import train_test_split # utilizada para dividir conjuntos de dados em subconjuntos de treino e teste, ajudando na validação de modelos\n",
    "from sklearn.model_selection import KFold # técnica de validação cruzada que divide um conjunto de dados em 'k' subconjuntos (folds) para treinar e testar modelos, garantindo que cada exemplo seja usado para treinamento e teste\n",
    "from sklearn.model_selection import cross_val_score # avalia o desempenho de um estimador usando validação cruzada. Ela divide os dados em k partes e treina o modelo k vezes\n",
    "\n",
    "from sklearn.metrics import mean_squared_error # métrica de avaliação que mede a média dos erros quadráticos entre os valores previstos e os valores reais"
   ]
  },
  {
   "cell_type": "code",
   "execution_count": 42,
   "metadata": {},
   "outputs": [],
   "source": [
    "# modelos de aprendizado profundo\n",
    "from keras.models import Sequential # permite agrupar uma pilha linear de camadas em um modelo, facilitando a construção de redes neurais\n",
    "from keras.layers import Dense # camada fundamental em redes neurais, onde cada neurônio está conectado a todos os neurônios da camada anterior, o que a torna amplamente utilizada em redes de múltiplas camadas\n",
    "from keras.optimizers import SGD # otimizador usado em Keras que atualiza os parâmetros com base no gradiente e na taxa de aprendizado definida\n",
    "from tensorflow.keras.optimizers import Adam # método de descida de gradiente estocástico que usa estimativas adaptativas de momentos de primeira e segunda ordem\n",
    "from keras.layers import LSTM # camada de rede neural recorrente que é utilizada para modelar sequências temporais, capaz de aprender padrões de longo prazo em dados sequenciais"
   ]
  },
  {
   "cell_type": "code",
   "execution_count": 43,
   "metadata": {},
   "outputs": [],
   "source": [
    "# modelos de séries temporais\n",
    "from statsmodels.tsa.arima_model import ARIMA # modelo estatístico usado para análise de séries temporais\n",
    "import statsmodels.api as sm # Modelo Estrutural é uma abordagem usada em estatística e econometria para modelar relações complexas entre variáveis"
   ]
  },
  {
   "cell_type": "code",
   "execution_count": 44,
   "metadata": {},
   "outputs": [],
   "source": [
    "# preparação e visualização de dados\n",
    "# pandas, pandas_datareader, numpy e matplotlib\n",
    "import numpy as np # computação de matrizes\n",
    "from matplotlib import pyplot # plotagem gráfica"
   ]
  },
  {
   "cell_type": "code",
   "execution_count": 45,
   "metadata": {},
   "outputs": [],
   "source": [
    "# carregando arquivo tratado em dataframe\n",
    "df_risk = pd.read_csv('df_treated/df_risk_tolerance.csv')"
   ]
  },
  {
   "cell_type": "code",
   "execution_count": 46,
   "metadata": {},
   "outputs": [
    {
     "data": {
      "text/plain": [
       "(22657, 9)"
      ]
     },
     "execution_count": 46,
     "metadata": {},
     "output_type": "execute_result"
    }
   ],
   "source": [
    "# conferindo a dimensão do dataframe, linhas e colunas\n",
    "df_risk.shape"
   ]
  },
  {
   "cell_type": "code",
   "execution_count": 47,
   "metadata": {},
   "outputs": [],
   "source": [
    "# ordenando pelo index o dataframe carregado\n",
    "df_risk = df_risk.sort_index()"
   ]
  },
  {
   "cell_type": "code",
   "execution_count": 48,
   "metadata": {},
   "outputs": [
    {
     "data": {
      "text/html": [
       "<div>\n",
       "<style scoped>\n",
       "    .dataframe tbody tr th:only-of-type {\n",
       "        vertical-align: middle;\n",
       "    }\n",
       "\n",
       "    .dataframe tbody tr th {\n",
       "        vertical-align: top;\n",
       "    }\n",
       "\n",
       "    .dataframe thead th {\n",
       "        text-align: right;\n",
       "    }\n",
       "</style>\n",
       "<table border=\"1\" class=\"dataframe\">\n",
       "  <thead>\n",
       "    <tr style=\"text-align: right;\">\n",
       "      <th></th>\n",
       "      <th>AGE</th>\n",
       "      <th>EDCL</th>\n",
       "      <th>MARRIED</th>\n",
       "      <th>KIDS</th>\n",
       "      <th>OCCAT1</th>\n",
       "      <th>INCOME</th>\n",
       "      <th>NETWORTH</th>\n",
       "      <th>tolerancia_risco</th>\n",
       "      <th>RISK</th>\n",
       "    </tr>\n",
       "  </thead>\n",
       "  <tbody>\n",
       "    <tr>\n",
       "      <th>0</th>\n",
       "      <td>70</td>\n",
       "      <td>3</td>\n",
       "      <td>2</td>\n",
       "      <td>2</td>\n",
       "      <td>3</td>\n",
       "      <td>38804.734469</td>\n",
       "      <td>762100.0</td>\n",
       "      <td>0.0</td>\n",
       "      <td>4</td>\n",
       "    </tr>\n",
       "    <tr>\n",
       "      <th>1</th>\n",
       "      <td>70</td>\n",
       "      <td>3</td>\n",
       "      <td>2</td>\n",
       "      <td>2</td>\n",
       "      <td>3</td>\n",
       "      <td>38264.278557</td>\n",
       "      <td>854300.0</td>\n",
       "      <td>0.0</td>\n",
       "      <td>4</td>\n",
       "    </tr>\n",
       "    <tr>\n",
       "      <th>2</th>\n",
       "      <td>70</td>\n",
       "      <td>3</td>\n",
       "      <td>2</td>\n",
       "      <td>2</td>\n",
       "      <td>3</td>\n",
       "      <td>36102.454910</td>\n",
       "      <td>678200.0</td>\n",
       "      <td>0.0</td>\n",
       "      <td>4</td>\n",
       "    </tr>\n",
       "    <tr>\n",
       "      <th>3</th>\n",
       "      <td>70</td>\n",
       "      <td>3</td>\n",
       "      <td>2</td>\n",
       "      <td>2</td>\n",
       "      <td>3</td>\n",
       "      <td>33508.266533</td>\n",
       "      <td>279600.0</td>\n",
       "      <td>0.0</td>\n",
       "      <td>4</td>\n",
       "    </tr>\n",
       "    <tr>\n",
       "      <th>4</th>\n",
       "      <td>70</td>\n",
       "      <td>3</td>\n",
       "      <td>2</td>\n",
       "      <td>2</td>\n",
       "      <td>3</td>\n",
       "      <td>35561.998998</td>\n",
       "      <td>602600.0</td>\n",
       "      <td>0.0</td>\n",
       "      <td>4</td>\n",
       "    </tr>\n",
       "  </tbody>\n",
       "</table>\n",
       "</div>"
      ],
      "text/plain": [
       "   AGE  EDCL  MARRIED  KIDS  OCCAT1        INCOME  NETWORTH  tolerancia_risco  \\\n",
       "0   70     3        2     2       3  38804.734469  762100.0               0.0   \n",
       "1   70     3        2     2       3  38264.278557  854300.0               0.0   \n",
       "2   70     3        2     2       3  36102.454910  678200.0               0.0   \n",
       "3   70     3        2     2       3  33508.266533  279600.0               0.0   \n",
       "4   70     3        2     2       3  35561.998998  602600.0               0.0   \n",
       "\n",
       "   RISK  \n",
       "0     4  \n",
       "1     4  \n",
       "2     4  \n",
       "3     4  \n",
       "4     4  "
      ]
     },
     "execution_count": 48,
     "metadata": {},
     "output_type": "execute_result"
    }
   ],
   "source": [
    "# reconhecendo as primeiras linhas do df\n",
    "df_risk.head(5)"
   ]
  },
  {
   "cell_type": "code",
   "execution_count": 49,
   "metadata": {},
   "outputs": [
    {
     "name": "stdout",
     "output_type": "stream",
     "text": [
      "<class 'pandas.core.frame.DataFrame'>\n",
      "RangeIndex: 22657 entries, 0 to 22656\n",
      "Data columns (total 9 columns):\n",
      " #   Column            Non-Null Count  Dtype  \n",
      "---  ------            --------------  -----  \n",
      " 0   AGE               22657 non-null  int64  \n",
      " 1   EDCL              22657 non-null  int64  \n",
      " 2   MARRIED           22657 non-null  int64  \n",
      " 3   KIDS              22657 non-null  int64  \n",
      " 4   OCCAT1            22657 non-null  int64  \n",
      " 5   INCOME            22657 non-null  float64\n",
      " 6   NETWORTH          22657 non-null  float64\n",
      " 7   tolerancia_risco  22657 non-null  float64\n",
      " 8   RISK              22657 non-null  int64  \n",
      "dtypes: float64(3), int64(6)\n",
      "memory usage: 1.6 MB\n"
     ]
    }
   ],
   "source": [
    "# verificando a posição de cada variável\n",
    "df_risk.info()"
   ]
  },
  {
   "cell_type": "code",
   "execution_count": 50,
   "metadata": {},
   "outputs": [],
   "source": [
    "# separando variáveis independentes(x) e dependente(y)\n",
    "X = df_risk.drop(columns='tolerancia_risco', axis=1)\n",
    "y = df_risk[['tolerancia_risco']]"
   ]
  },
  {
   "cell_type": "code",
   "execution_count": 51,
   "metadata": {},
   "outputs": [
    {
     "name": "stdout",
     "output_type": "stream",
     "text": [
      "<class 'pandas.core.frame.DataFrame'>\n",
      "RangeIndex: 22657 entries, 0 to 22656\n",
      "Data columns (total 8 columns):\n",
      " #   Column    Non-Null Count  Dtype  \n",
      "---  ------    --------------  -----  \n",
      " 0   AGE       22657 non-null  int64  \n",
      " 1   EDCL      22657 non-null  int64  \n",
      " 2   MARRIED   22657 non-null  int64  \n",
      " 3   KIDS      22657 non-null  int64  \n",
      " 4   OCCAT1    22657 non-null  int64  \n",
      " 5   INCOME    22657 non-null  float64\n",
      " 6   NETWORTH  22657 non-null  float64\n",
      " 7   RISK      22657 non-null  int64  \n",
      "dtypes: float64(2), int64(6)\n",
      "memory usage: 1.4 MB\n",
      "X= None\n",
      "<class 'pandas.core.frame.DataFrame'>\n",
      "RangeIndex: 22657 entries, 0 to 22656\n",
      "Data columns (total 1 columns):\n",
      " #   Column            Non-Null Count  Dtype  \n",
      "---  ------            --------------  -----  \n",
      " 0   tolerancia_risco  22657 non-null  float64\n",
      "dtypes: float64(1)\n",
      "memory usage: 177.1 KB\n",
      "y= None\n"
     ]
    }
   ],
   "source": [
    "print('X=', X.info())\n",
    "print('y=', y.info())"
   ]
  },
  {
   "cell_type": "code",
   "execution_count": 52,
   "metadata": {},
   "outputs": [],
   "source": [
    "# separando os sets de treino e teste em 20% para teste e 80% para treino\n",
    "test_size = 0.20\n",
    "seed = 42\n",
    "X_train, X_test, Y_train, Y_test = train_test_split(X, y, test_size=test_size, random_state=seed)"
   ]
  },
  {
   "cell_type": "code",
   "execution_count": 53,
   "metadata": {},
   "outputs": [],
   "source": [
    "# hiperparâmetros do CV (cross validation)\n",
    "num_folds = 10\n",
    "scoring = 'r2'"
   ]
  },
  {
   "cell_type": "code",
   "execution_count": 54,
   "metadata": {},
   "outputs": [],
   "source": [
    "# implementando os modelos de ML\n",
    "models = []\n",
    "\n",
    "# regressão e árvore de regressão\n",
    "models.append(('LR', LinearRegression()))\n",
    "models.append(('LASSO', Lasso()))\n",
    "models.append(('EN', ElasticNet()))\n",
    "models.append(('KNN', KNeighborsRegressor()))\n",
    "models.append(('CART', DecisionTreeRegressor()))\n",
    "models.append(('SVR', SVR()))\n",
    "\n",
    "# ensemble - boosting\n",
    "models.append(('ABR', AdaBoostRegressor()))\n",
    "models.append(('GBR', GradientBoostingRegressor()))\n",
    "\n",
    "# ensemble - bagging\n",
    "models.append(('RFR', RandomForestRegressor()))\n",
    "models.append(('ETR', ExtraTreesRegressor()))"
   ]
  },
  {
   "cell_type": "markdown",
   "metadata": {},
   "source": [
    "- Foi criado uma lista de modelos para automatizar o treinamento e a avaliação de todos eles, evitando que o trabalho fosse feito repetidamente de forma manual, tornando o trabalho mais rápido e preciso."
   ]
  },
  {
   "cell_type": "markdown",
   "metadata": {},
   "source": [
    "### Treinando os Modelos: 'EN', 'LASSO', 'LR', 'KNN', 'SVR', 'GBR', 'RFR', 'ETR', 'CART', 'ABR'"
   ]
  },
  {
   "cell_type": "code",
   "execution_count": 55,
   "metadata": {},
   "outputs": [],
   "source": [
    "# obtendo os scores do k-fold e o erro quadrático médio entre o resultado conhecido e o resultado previsto\n",
    "names = []\n",
    "kfold_results = []\n",
    "test_results = []\n",
    "train_results = []\n",
    "\n",
    "for name, model in models:\n",
    "    names.append(name)\n",
    "\n",
    "    if name in ('EN', 'LASSO'): #'EN', 'LASSO'): \n",
    "        divisorC, divisorK=1, 1\n",
    "        divisorC=100 # modificando a escala para visualizar no gráfico   \n",
    "        #divisorK=10  \n",
    "    else:\n",
    "        if name in ('LR', 'KNN', 'SVR', 'GBR', 'RFR', 'ETR', 'CART', 'ABR'): \n",
    "            divisorC, divisorK= 1, 1\n",
    "            #divisorK=0.1 # modificando a escala para visualizar no gráfico  \n",
    "            #divisorC=0.1          \n",
    "\n",
    "    # análise k-fold\n",
    "    kfold = KFold(n_splits=num_folds, random_state=None)\n",
    "\n",
    "    # erro quadrático médio convertido para positivo. Quanto menor melhor.\n",
    "    cv_results = -1* cross_val_score(model, X_train, Y_train, cv= kfold, scoring=scoring)\n",
    "    kfold_results.append(cv_results/divisorK)\n",
    "\n",
    "    # período completo de treinamento\n",
    "    res = model.fit(X_train, Y_train)\n",
    "    train_result = mean_squared_error(res.predict(X_train), Y_train)\n",
    "    train_results.append(train_result/divisorC)\n",
    "    if name in ('LR'):\n",
    "        LR_model = res\n",
    "\n",
    "    # resultado dos testes\n",
    "    test_result = mean_squared_error(res.predict(X_test), Y_test)\n",
    "    test_results.append(test_result/divisorC)"
   ]
  },
  {
   "cell_type": "code",
   "execution_count": 65,
   "metadata": {},
   "outputs": [
    {
     "data": {
      "image/png": "[encoded data removed]",
      "text/plain": [
       "<Figure size 1000x500 with 1 Axes>"
      ]
     },
     "metadata": {},
     "output_type": "display_data"
    }
   ],
   "source": [
    "# comparando resultados da validação cruzada\n",
    "# quanto maior o cross_val_score o modelo é mais consistente e generalizável\n",
    "fig = pyplot.figure()\n",
    "fig.suptitle('Comparação dos Valore do Kfold')\n",
    "ax = fig.add_subplot(111)\n",
    "ymin= -1.25\n",
    "ymax= 0.25\n",
    "pyplot.ylim(ymin, ymax)\n",
    "pyplot.boxplot(kfold_results, boxprops=dict(color='blue'), whiskerprops=dict(color='red'), \\\n",
    "               capprops=dict(color='green'), medianprops=dict(color='orange'), \\\n",
    "               flierprops=dict(markerfacecolor='red', marker='o'))\n",
    "ax.set_xticklabels(names)\n",
    "fig.set_size_inches(10,5)\n",
    "pyplot.show()"
   ]
  },
  {
   "cell_type": "markdown",
   "metadata": {},
   "source": [
    "- Um valor maior de cross_val_score geralmente sugere que o modelo se adapta melhor aos dados e apresenta um desempenho superior na validação cruzada. \n",
    "- LASSO E ElasticNet (EN) apresentaram o melhor resultado do kfold, então seriam até agora os escolhidos baseados nessa avaliação."
   ]
  },
  {
   "cell_type": "code",
   "execution_count": 61,
   "metadata": {},
   "outputs": [
    {
     "data": {
      "image/png": "[encoded data removed]",
      "text/plain": [
       "<Figure size 1000x500 with 1 Axes>"
      ]
     },
     "metadata": {},
     "output_type": "display_data"
    }
   ],
   "source": [
    "# analisando o erro de treinamento e de teste\n",
    "# comparando algoritmos\n",
    "fig = pyplot.figure()\n",
    "\n",
    "ind = np.arange(len(names)) # as localidades x para os grupos\n",
    "width = 0.35 # largura das barras\n",
    "\n",
    "fig.suptitle('Comparação do Erro Quadrático Médio do Treino e do Teste')\n",
    "ax = fig.add_subplot(111)\n",
    "pyplot.bar(ind - width, train_results, width=width, label='train Error', color='green')\n",
    "pyplot.bar(ind, test_results, width=width, label='test Error', color='yellow')\n",
    "fig.set_size_inches(10,5)\n",
    "pyplot.legend()\n",
    "ax.set_xticks(ind)\n",
    "ax.set_xticklabels(names)\n",
    "pyplot.savefig('grafic_image/compara_erro.png', format='png')\n",
    "pyplot.show()\n"
   ]
  },
  {
   "cell_type": "markdown",
   "metadata": {},
   "source": [
    "- Verificamos que o modelo LR - Linear Regression teve o melhor desempenho relativo ao erro quadrático médio, apresentou o menor erro em conjunto de treino e teste.\n",
    "\n",
    "- Com exceção do LR os demais modelos apresentaram o erro quadrático médio do teste maior que o erro quadrático médio do treino, o que pode levar a um overfitting, dessa forma elegeremos somente o LR como modelo escolhido dessa comparação mesmo que o seu cross_val_score tenha sido menor que o LASSO e o EN."
   ]
  },
  {
   "cell_type": "code",
   "execution_count": 62,
   "metadata": {},
   "outputs": [
    {
     "name": "stdout",
     "output_type": "stream",
     "text": [
      "ERRO de teste LR 0.002992707151888241\n",
      "relação DO ERRO de teste sobre O ERRO de treino LR 99.06910711833167\n",
      "ERRO de teste LASSO 0.001149027996875319\n",
      "relação DO ERRO de teste sobre O ERRO de treino LASSO 97.28167795160002\n",
      "ERRO de teste EN 0.0011224591119198082\n",
      "relação DO ERRO de teste sobre O ERRO de treino EN 97.47209337643207\n",
      "ERRO de teste KNN 0.051265625480847656\n",
      "relação DO ERRO de teste sobre O ERRO de treino KNN 154.5395176200111\n",
      "ERRO de teste CART 0.0010078672872586107\n",
      "relação DO ERRO de teste sobre O ERRO de treino CART 191316.1090761453\n",
      "ERRO de teste SVR 0.08370704491413998\n",
      "relação DO ERRO de teste sobre O ERRO de treino SVR 100.29137273591577\n",
      "ERRO de teste ABR 0.0029793994674356308\n",
      "relação DO ERRO de teste sobre O ERRO de treino ABR 99.80413120322534\n",
      "ERRO de teste GBR 0.0025083499714565346\n",
      "relação DO ERRO de teste sobre O ERRO de treino GBR 103.23763802849544\n",
      "ERRO de teste RFR 0.0006183641990035837\n",
      "relação DO ERRO de teste sobre O ERRO de treino RFR 721.7176816769273\n",
      "ERRO de teste ETR 0.0004636912284144642\n",
      "relação DO ERRO de teste sobre O ERRO de treino ETR 88019.1298541781\n"
     ]
    }
   ],
   "source": [
    "# verificando a relação do erro de test sobre o erro de treino\n",
    "for i in range(10):\n",
    "    if train_results[i] == 0:\n",
    "        print('ERRO de teste', names[i], test_results[i])\n",
    "        print('relação DO ERRO de teste sobre O ERRO de treino', names[i], 0)\n",
    "    else:\n",
    "        print('ERRO de teste', names[i], test_results[i])\n",
    "        print('relação DO ERRO de teste sobre O ERRO de treino', names[i], (test_results[i]/train_results[i]) * 100)"
   ]
  },
  {
   "cell_type": "markdown",
   "metadata": {},
   "source": [
    "- O modelo LR apresentou a melhor relação 90% do erro de teste sobre o erro de treino, sendo o eleito dentre todos os modelos.\n",
    "\n",
    "- Um valor elevado de Mean Squared Error (MSE) indica que o modelo não está fazendo previsões próximas dos valores reais, sugerindo uma baixa precisão nas suas previsões.\n",
    "\n",
    "- Quando o erro quadrático médio (MSE) do conjunto de teste é maior que o do conjunto de treinamento, isso pode indicar um problema de overfitting, onde o modelo se ajustou muito bem aos dados de treinamento, mas não generaliza bem para os dados novos."
   ]
  },
  {
   "cell_type": "markdown",
   "metadata": {},
   "source": [
    "## Faz o Deploy do Modelo"
   ]
  },
  {
   "cell_type": "code",
   "execution_count": 63,
   "metadata": {},
   "outputs": [
    {
     "data": {
      "text/plain": [
       "['model/LR_gold_price.pkl']"
      ]
     },
     "execution_count": 63,
     "metadata": {},
     "output_type": "execute_result"
    }
   ],
   "source": [
    "# faz o deploy do modelo para ser utilizado posteriormente\n",
    "from joblib import dump\n",
    "\n",
    "dump(LR_model, 'model/LR_gold_price.pkl')"
   ]
  }
 ],
 "metadata": {
  "kernelspec": {
   "display_name": "Python 3",
   "language": "python",
   "name": "python3"
  },
  "language_info": {
   "codemirror_mode": {
    "name": "ipython",
    "version": 3
   },
   "file_extension": ".py",
   "mimetype": "text/x-python",
   "name": "python",
   "nbconvert_exporter": "python",
   "pygments_lexer": "ipython3",
   "version": "3.11.5"
  }
 },
 "nbformat": 4,
 "nbformat_minor": 2
}
